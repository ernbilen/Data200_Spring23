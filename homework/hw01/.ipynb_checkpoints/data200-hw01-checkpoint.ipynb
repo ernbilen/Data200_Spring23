{
 "cells": [
  {
   "cell_type": "markdown",
   "metadata": {},
   "source": [
    "# Data 200: Data Systems for Data Analytics\n"
   ]
  },
  {
   "cell_type": "markdown",
   "metadata": {},
   "source": [
    "# Homework 1: File Processing in Python\n",
    "\n",
    "\n",
    "<font color='red'>**Due Date**: Feb 10 beginning of class </font>\n",
    "---\n",
    "Enter your name in the markdown cell below."
   ]
  },
  {
   "cell_type": "markdown",
   "metadata": {},
   "source": [
    "# Name:"
   ]
  },
  {
   "cell_type": "code",
   "execution_count": 1,
   "metadata": {},
   "outputs": [
    {
     "data": {
      "text/html": [
       "<style>\n",
       "blockquote { background: #AEDE94; }\n",
       "h1 { \n",
       "    padding-top: 25px;\n",
       "    padding-bottom: 25px;\n",
       "    text-align: left; \n",
       "    padding-left: 10px;\n",
       "    background-color: #DDDDDD; \n",
       "    color: black;\n",
       "}\n",
       "h2 { \n",
       "    padding-top: 10px;\n",
       "    padding-bottom: 10px;\n",
       "    text-align: left; \n",
       "    padding-left: 5px;\n",
       "    background-color: #EEEEEE; \n",
       "    color: black;\n",
       "}\n",
       "\n",
       "div.exercise {\n",
       "\tbackground-color: #ffcccc;\n",
       "\tborder-color: #E9967A; \t\n",
       "\tborder-left: 5px solid #800080; \n",
       "\tpadding: 0.5em;\n",
       "}\n",
       "\n",
       "div.exercise-r {\n",
       "\tbackground-color: #fce8e8;\n",
       "\tborder-color: #E9967A; \t\n",
       "\tborder-left: 5px solid #800080; \n",
       "\tpadding: 0.5em;\n",
       "}\n",
       "\n",
       "\n",
       "span.sub-q {\n",
       "\tfont-weight: bold;\n",
       "}\n",
       "div.theme {\n",
       "\tbackground-color: #DDDDDD;\n",
       "\tborder-color: #E9967A; \t\n",
       "\tborder-left: 5px solid #800080; \n",
       "\tpadding: 0.5em;\n",
       "\tfont-size: 18pt;\n",
       "}\n",
       "div.gc { \n",
       "\tbackground-color: #AEDE94;\n",
       "\tborder-color: #E9967A; \t \n",
       "\tborder-left: 5px solid #800080; \n",
       "\tpadding: 0.5em;\n",
       "\tfont-size: 12pt;\n",
       "}\n",
       "p.q1 { \n",
       "    padding-top: 5px;\n",
       "    padding-bottom: 5px;\n",
       "    text-align: left; \n",
       "    padding-left: 5px;\n",
       "    background-color: #EEEEEE; \n",
       "    color: black;\n",
       "}\n",
       "header {\n",
       "   padding-top: 35px;\n",
       "    padding-bottom: 35px;\n",
       "    text-align: left; \n",
       "    padding-left: 10px;\n",
       "    background-color: #DDDDDD; \n",
       "    color: black;\n",
       "}\n",
       "</style>\n",
       "\n"
      ],
      "text/plain": [
       "<IPython.core.display.HTML object>"
      ]
     },
     "execution_count": 1,
     "metadata": {},
     "output_type": "execute_result"
    }
   ],
   "source": [
    "import numpy as np\n",
    "import os"
   ]
  },
  {
   "cell_type": "markdown",
   "metadata": {},
   "source": [
    "# Tasks\n",
    "\n",
    "- Read pages 17-48 in the textbook.\n",
    "- Push your completed Jupyter notebook + Markdown file."
   ]
  },
  {
   "cell_type": "markdown",
   "metadata": {},
   "source": [
    "# Exercises"
   ]
  },
  {
   "cell_type": "markdown",
   "metadata": {},
   "source": [
    "The file `quotes.txt` in the `data` folder contains five famous quotes. The file is organized so that the quote is on one line and then the name of the person to whom the quote is attributed on the next line.  This is repeated for 5 different quotes. Open up the file with your text editor to inspect it. "
   ]
  },
  {
   "cell_type": "markdown",
   "metadata": {},
   "source": [
    "<div class=\"exercise\"><b>Exercise 1</b></div> \n",
    "\n",
    "Write Python statements to <br>\n",
    "\n",
    "- Open the `quotes.txt` file\n",
    "- Read and print the first line of the file (using the `readline()` method)\n",
    "- Close the file\n",
    "\n",
    "The output from my solution is:<br>\n",
    "\n",
    "<code>\n",
    "When you reach the end of your rope, tie a knot in it and hang on.</code>"
   ]
  },
  {
   "cell_type": "code",
   "execution_count": null,
   "metadata": {
    "scrolled": true
   },
   "outputs": [],
   "source": []
  },
  {
   "cell_type": "markdown",
   "metadata": {},
   "source": [
    "<div class=\"exercise\"><b>Exercise 2</b></div> \n",
    "\n",
    "Review page 65 of the Course Notes and then write Python statements to <br>\n",
    "\n",
    "- Open the `quotes.txt` file\n",
    "- Read all of the lines of the file using the `readlines(.)` method\n",
    "- Print all the lines using a for-loop as on page 65 of the Course Notes\n",
    "- Close the file\n",
    "\n",
    "The output from my solution is:<br>\n",
    "\n",
    "<code>\n",
    "When you reach the end of your rope, tie a knot in it and hang on.\n",
    "Franklin D. Roosevelt\n",
    "Always remember that you are absolutely unique. Just like everyone else.\n",
    "Margaret Mead\n",
    "The best and most beautiful things in the world cannot be seen or even touched — they must be felt with the heart.\n",
    "Helen Keller\n",
    "Success depends upon previous preparation, and without such preparation, there is sure to be failure.\n",
    "Confucius\n",
    "The journey of a thousand miles begins with one step.\n",
    "Lao Tzu</code>"
   ]
  },
  {
   "cell_type": "code",
   "execution_count": null,
   "metadata": {},
   "outputs": [],
   "source": []
  },
  {
   "cell_type": "markdown",
   "metadata": {},
   "source": [
    "Run the cell below that defines a few `string` variables."
   ]
  },
  {
   "cell_type": "code",
   "execution_count": null,
   "metadata": {},
   "outputs": [],
   "source": [
    "s1 = \"Yeah, we fancy like Applebee's on a date night\"\n",
    "s2 = \"Got that Bourbon Street steak with the Oreo shake\"\n",
    "s3 = \"Get some whipped cream on the top too\"\n",
    "s4 = \"Two straws, one check, girl, I got you\""
   ]
  },
  {
   "cell_type": "markdown",
   "metadata": {},
   "source": [
    "<div class=\"exercise\"><b>Exercise 3</b></div> \n",
    "\n",
    "Review pages 61-62 of the Course Notes and then write Python statements that use the `split(.)` method (remember that the default separator is any whitespace) to print out:<br>\n",
    "\n",
    "a) The 5th word (index 4) of `s1`<br>\n",
    "b) The last word of `s2`<br>\n",
    "\n",
    "The output from my solution is:<br>\n",
    "\n",
    "<code>\n",
    "Applebee's\n",
    "shake</code>"
   ]
  },
  {
   "cell_type": "code",
   "execution_count": null,
   "metadata": {},
   "outputs": [],
   "source": []
  },
  {
   "cell_type": "markdown",
   "metadata": {},
   "source": [
    "<div class=\"exercise\"><b>Exercise 4</b></div> \n",
    "\n",
    "Write Python statements that determines the number of words in the `quotes.txt` file. Specifically,\n",
    "- Open the file `quotes.txt`\n",
    "- Read the entire file using the `read(.)` method and assign it to a string (pages pages 58-59 in the Course Notes)\n",
    "- Use the `split(.)` method to split the string using the default separator (whitespace)\n",
    "- Use the `len(.)` method to determine the number of words\n",
    "- Print the number of words.\n",
    "The output from my solution is:<br>\n",
    "<code>\n",
    "The number of words is 85</code>"
   ]
  },
  {
   "cell_type": "code",
   "execution_count": null,
   "metadata": {},
   "outputs": [],
   "source": []
  },
  {
   "cell_type": "markdown",
   "metadata": {},
   "source": [
    "<div class=\"exercise\"><b>Exercise 5</b></div> \n",
    "\n",
    "Write Python code that processes the file `quotes.txt`, line by line, and accumulates and returns a list of tuples, one per line. Each tuple consists of the two values of the line number and the number of words on the line (line numbers in a file start at 1). Finally, print the list of tupes.  It might be helpful to review the `readNames(.)` method on page 67 of the Course Notes.\n",
    "\n",
    "The output from my solution is:<br>\n",
    "<code>\n",
    "[[1, 16], [2, 3], [3, 11], [4, 2], [5, 23], [6, 2], [7, 15], [8, 1], [9, 10], [10, 2]]</code>"
   ]
  },
  {
   "cell_type": "code",
   "execution_count": null,
   "metadata": {},
   "outputs": [],
   "source": []
  },
  {
   "cell_type": "markdown",
   "metadata": {},
   "source": [
    "<div class=\"exercise\"><b>Exercise 6</b></div> \n",
    "\n",
    "Write a function `numWordsPerLine(filepath)` that processes the file as in **Exercise 5** and returns the tuple produced (this is just to give you practice writing code as functions)--we will use the function shortly. Note that `filepath` should be the path to the input file."
   ]
  },
  {
   "cell_type": "code",
   "execution_count": null,
   "metadata": {},
   "outputs": [],
   "source": []
  },
  {
   "cell_type": "markdown",
   "metadata": {},
   "source": [
    "Let's now get some practice using the `os.path.join(.)` method.  Run the following code cell"
   ]
  },
  {
   "cell_type": "code",
   "execution_count": null,
   "metadata": {},
   "outputs": [],
   "source": [
    "import os\n",
    "\n",
    "datadir = \"data\""
   ]
  },
  {
   "cell_type": "markdown",
   "metadata": {},
   "source": [
    "<div class=\"exercise\"><b>Exercise 7</b></div> \n",
    "\n",
    "There is text file called `summerDay.txt` in the `data` folder.  Create a file path called `filepath` by using the `os.path.join(.)` method to join together `datadir` and the name of the file `summerDay.txt`.  Then call the function `numWordsPerLine(filepath)` you wrote in **Exercise 6** and pass in `filepath`.  You may want to review page 56 of the Course Notes.\n",
    "\n",
    "The output from my solution is:<br>\n",
    "<code>\n",
    "[[1, 8], [2, 7], [3, 9], [4, 9], [5, 8], [6, 7], [7, 7], [8, 7], [9, 7], [10, 8], [11, 9], [12, 8], [13, 10], [14, 10]]</code>"
   ]
  },
  {
   "cell_type": "code",
   "execution_count": null,
   "metadata": {},
   "outputs": [],
   "source": []
  },
  {
   "cell_type": "markdown",
   "metadata": {},
   "source": [
    "<div class=\"exercise\"><b>Exercise 8</b></div> \n",
    "\n",
    "There is text file called `babyNames.txt` in the `data` folder that is a variation on that considered on pages 69-70 of the Course Notes as depicted below:\n",
    "\n",
    "    22127,      Jacob\n",
    "    18002,      Ethan\n",
    "    17350,    Michael\n",
    "    17179,     Jayden\n",
    "    17051,    William\n",
    "    16756,  Alexander\n",
    "    \n",
    "Each line of the file captures one data case/observation. The values are separated by commas, with the count occurring first and the name second, and *spaces* (not tabs)  are used to align the columns of data to make it easier for a human reader.\n",
    "\n",
    "In the cell below, **complete the function**\n",
    "\n",
    "    `readNamesCounts(filepath)`\n",
    "\n",
    "that processes the filepath file and returns two lists: `namelist` = list of names and `countlist` = integer counts. To accomplish this, modify the `readNamesCounts(.)` function on page 69 of the Course Notes (be sure to use the `with open` approach). You may need to call `strip()` twice, once to remove the newline `\\n` characters and again later to remove the spaces.\n",
    "\n",
    "The output from my solution is:<br>\n",
    "<code>\n",
    "['Jacob', 'Ethan', 'Michael', 'Jayden', 'William', 'Alexander']\n",
    "[22127, 18002, 17350, 17179, 17051, 16756]</code>"
   ]
  },
  {
   "cell_type": "code",
   "execution_count": null,
   "metadata": {},
   "outputs": [],
   "source": [
    "def readNamesCounts(filepath):\n",
    "    namelist = []\n",
    "    countlist = []\n",
    "    ## FINISH THE FUNCTION HERE\n",
    "    \n",
    "\n",
    "filepath = os.path.join(datadir, \"babyNames.txt\")\n",
    "namelist, countlist = readNamesCounts(filepath)\n",
    "print(namelist)\n",
    "print(countlist)"
   ]
  }
 ],
 "metadata": {
  "celltoolbar": "Raw Cell Format",
  "kernelspec": {
   "display_name": "Python 3 (ipykernel)",
   "language": "python",
   "name": "python3"
  },
  "language_info": {
   "codemirror_mode": {
    "name": "ipython",
    "version": 3
   },
   "file_extension": ".py",
   "mimetype": "text/x-python",
   "name": "python",
   "nbconvert_exporter": "python",
   "pygments_lexer": "ipython3",
   "version": "3.9.13"
  }
 },
 "nbformat": 4,
 "nbformat_minor": 2
}
