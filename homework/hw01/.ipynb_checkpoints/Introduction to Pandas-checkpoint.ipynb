{
 "cells": [
  {
   "cell_type": "code",
   "execution_count": 2,
   "id": "b4b62035",
   "metadata": {},
   "outputs": [
    {
     "name": "stdout",
     "output_type": "stream",
     "text": [
      "Bill      10\n",
      "Peixin    13\n",
      "Carlo      9\n",
      "Thahn     16\n",
      "Name: ages, dtype: int64\n"
     ]
    }
   ],
   "source": [
    "import pandas as pd\n",
    "age = pd.Series([10,13,9,16],index=['Bill','Peixin','Carlo','Thahn'],name='ages')\n",
    "print(age)"
   ]
  },
  {
   "cell_type": "code",
   "execution_count": 3,
   "id": "0177f457",
   "metadata": {},
   "outputs": [
    {
     "name": "stdout",
     "output_type": "stream",
     "text": [
      "California    38332521\n",
      "Texas         26448193\n",
      "New York      19651127\n",
      "Florida       19552860\n",
      "Illinois      12882135\n",
      "dtype: int64\n"
     ]
    }
   ],
   "source": [
    "population_dict = {'California': 38332521,\n",
    "                    'Texas': 26448193,\n",
    "                    'New York': 19651127,\n",
    "                    'Florida': 19552860,\n",
    "                    'Illinois': 12882135}\n",
    "population = pd.Series(population_dict)\n",
    "print(population)\n"
   ]
  },
  {
   "cell_type": "code",
   "execution_count": 6,
   "id": "a052aaad",
   "metadata": {},
   "outputs": [
    {
     "name": "stdout",
     "output_type": "stream",
     "text": [
      "      name       breed  color  height_cm  weight_kg date_of_birth\n",
      "0    Bella    Labrador  Brown         56         24    2013-07-01\n",
      "1  Charlie      Poodle  Black         43         24    2016-09-16\n",
      "2     Lucy    ChowChow  Brown         46         24    2014-08-25\n",
      "3  Coooper   Schnauzer   Gray         49         17    2011-12-11\n",
      "4      Max    Labrador  Black         59         29    2017-01-28\n",
      "5   Stella   Chihuahua    Tan         18          2    2015-04-20\n",
      "6   Bernie  St.Bernard  White         77         74    2018-02-27\n"
     ]
    }
   ],
   "source": [
    "dataDoL={'name':['Bella','Charlie','Lucy','Coooper','Max','Stella','Bernie'],         \n",
    "        'breed':['Labrador','Poodle','ChowChow','Schnauzer','Labrador',\n",
    "                 'Chihuahua','St.Bernard'],\n",
    "        'color': ['Brown','Black','Brown','Gray','Black','Tan','White'],\n",
    "        'height_cm':[56,43,46,49,59,18,77],\n",
    "        'weight_kg':[24,24,24,17,29,2,74],\n",
    "        'date_of_birth':['2013-07-01','2016-09-16','2014-08-25',\n",
    "                         '2011-12-11','2017-01-28','2015-04-20',\n",
    "                         '2018-02-27']}\n",
    "\n",
    "dogs = pd.DataFrame(dataDoL)\n",
    "print(dogs)"
   ]
  },
  {
   "cell_type": "code",
   "execution_count": 8,
   "id": "38cdf274",
   "metadata": {},
   "outputs": [
    {
     "name": "stdout",
     "output_type": "stream",
     "text": [
      "            country      pop       gdp   life     cell\n",
      "code                                                  \n",
      "CAN          Canada    36.26   1535.77  82.30    30.75\n",
      "CHN           China  1378.66  11199.15  76.25  1364.93\n",
      "IND           India  1324.17   2263.79  68.56  1127.81\n",
      "RUS          Russia   144.34   1283.16  71.59   229.13\n",
      "USA   United States   323.13  18624.47  78.69   395.88\n",
      "VNM         Vietnam    94.59    205.28  76.25   120.60\n"
     ]
    }
   ],
   "source": [
    "indicatorDoL = {\n",
    "  'country': ['Canada', 'China', 'India',\n",
    "              'Russia', 'United States', 'Vietnam'],\n",
    "  'pop': [36.26, 1378.66, 1324.17, 144.34, 323.13, 94.59],\n",
    "  'gdp': [1535.77, 11199.15, 2263.79, 1283.16, 18624.47,\n",
    "          205.28],\n",
    "  'life': [82.30, 76.25, 68.56, 71.59, 78.69, 76.25],\n",
    "  'cell': [30.75, 1364.93, 1127.81, 229.13, 395.88, 120.60]}\n",
    "\n",
    "codes = pd.Index(['CAN', 'CHN', 'IND', 'RUS', 'USA', 'VNM'],\n",
    "                 name='code')\n",
    "\n",
    "indicators = pd.DataFrame(indicatorDoL, index=codes)\n",
    "print(indicators)"
   ]
  },
  {
   "cell_type": "code",
   "execution_count": 9,
   "id": "474332a9",
   "metadata": {},
   "outputs": [
    {
     "name": "stdout",
     "output_type": "stream",
     "text": [
      "[['Bella' 'Labrador' 'Brown' 56 24 '2013-07-01']\n",
      " ['Charlie' 'Poodle' 'Black' 43 24 '2016-09-16']\n",
      " ['Lucy' 'ChowChow' 'Brown' 46 24 '2014-08-25']\n",
      " ['Coooper' 'Schnauzer' 'Gray' 49 17 '2011-12-11']\n",
      " ['Max' 'Labrador' 'Black' 59 29 '2017-01-28']\n",
      " ['Stella' 'Chihuahua' 'Tan' 18 2 '2015-04-20']\n",
      " ['Bernie' 'St.Bernard' 'White' 77 74 '2018-02-27']]\n",
      "Index(['name', 'breed', 'color', 'height_cm', 'weight_kg', 'date_of_birth'], dtype='object')\n",
      "RangeIndex(start=0, stop=7, step=1)\n"
     ]
    }
   ],
   "source": [
    "print(dogs.values)\n",
    "print(dogs.columns)\n",
    "print(dogs.index)"
   ]
  },
  {
   "cell_type": "code",
   "execution_count": 12,
   "id": "291bf1bd",
   "metadata": {},
   "outputs": [
    {
     "name": "stdout",
     "output_type": "stream",
     "text": [
      "The data type of df is <class 'pandas.core.frame.DataFrame'>\n",
      "The shape of the dataframe is (1704, 6)\n",
      "       country continent  year  lifeExp       pop   gdpPercap\n",
      "0  Afghanistan      Asia  1952   28.801   8425333  779.445314\n",
      "1  Afghanistan      Asia  1957   30.332   9240934  820.853030\n",
      "2  Afghanistan      Asia  1962   31.997  10267083  853.100710\n",
      "3  Afghanistan      Asia  1967   34.020  11537966  836.197138\n",
      "4  Afghanistan      Asia  1972   36.088  13079460  739.981106\n"
     ]
    }
   ],
   "source": [
    "df = pd.read_csv(\"gapminder.csv\")\n",
    "print(\"The data type of df is \" + str(type(df)))\n",
    "\n",
    "\n",
    "print('The shape of the dataframe is ' + str(df.shape))\n",
    "print(df.head())"
   ]
  },
  {
   "cell_type": "code",
   "execution_count": 13,
   "id": "3683b766",
   "metadata": {},
   "outputs": [
    {
     "name": "stdout",
     "output_type": "stream",
     "text": [
      "<class 'pandas.core.frame.DataFrame'>\n",
      "RangeIndex: 1704 entries, 0 to 1703\n",
      "Data columns (total 6 columns):\n",
      " #   Column     Non-Null Count  Dtype  \n",
      "---  ------     --------------  -----  \n",
      " 0   country    1704 non-null   object \n",
      " 1   continent  1704 non-null   object \n",
      " 2   year       1704 non-null   int64  \n",
      " 3   lifeExp    1704 non-null   float64\n",
      " 4   pop        1704 non-null   int64  \n",
      " 5   gdpPercap  1704 non-null   float64\n",
      "dtypes: float64(2), int64(2), object(2)\n",
      "memory usage: 80.0+ KB\n",
      "None\n"
     ]
    }
   ],
   "source": [
    "print(df.info())"
   ]
  },
  {
   "cell_type": "code",
   "execution_count": 14,
   "id": "913ad1ce",
   "metadata": {},
   "outputs": [
    {
     "name": "stdout",
     "output_type": "stream",
     "text": [
      "             year      lifeExp           pop      gdpPercap\n",
      "count  1704.00000  1704.000000  1.704000e+03    1704.000000\n",
      "mean   1979.50000    59.474439  2.960121e+07    7215.327081\n",
      "std      17.26533    12.917107  1.061579e+08    9857.454543\n",
      "min    1952.00000    23.599000  6.001100e+04     241.165876\n",
      "25%    1965.75000    48.198000  2.793664e+06    1202.060309\n",
      "50%    1979.50000    60.712500  7.023596e+06    3531.846988\n",
      "75%    1993.25000    70.845500  1.958522e+07    9325.462346\n",
      "max    2007.00000    82.603000  1.318683e+09  113523.132900\n"
     ]
    }
   ],
   "source": [
    "print(df.describe())"
   ]
  },
  {
   "cell_type": "code",
   "execution_count": 15,
   "id": "8dc62900",
   "metadata": {},
   "outputs": [
    {
     "name": "stdout",
     "output_type": "stream",
     "text": [
      "      name       breed  color  height_cm  weight_kg date_of_birth\n",
      "0    Bella    Labrador  Brown         56         24    2013-07-01\n",
      "1  Charlie      Poodle  Black         43         24    2016-09-16\n",
      "2     Lucy    ChowChow  Brown         46         24    2014-08-25\n",
      "3  Coooper   Schnauzer   Gray         49         17    2011-12-11\n",
      "4      Max    Labrador  Black         59         29    2017-01-28\n",
      "5   Stella   Chihuahua    Tan         18          2    2015-04-20\n",
      "6   Bernie  St.Bernard  White         77         74    2018-02-27\n"
     ]
    }
   ],
   "source": [
    "print(dogs)\n"
   ]
  },
  {
   "cell_type": "code",
   "execution_count": 19,
   "id": "c5bc0363",
   "metadata": {},
   "outputs": [
    {
     "name": "stdout",
     "output_type": "stream",
     "text": [
      "0      Bella\n",
      "1    Charlie\n",
      "2       Lucy\n",
      "3    Coooper\n",
      "4        Max\n",
      "5     Stella\n",
      "6     Bernie\n",
      "Name: name, dtype: object\n",
      "\n",
      "\n",
      "<class 'pandas.core.series.Series'>\n"
     ]
    }
   ],
   "source": [
    "Name = dogs['name']\n",
    "print(Name)\n",
    "print('\\n')\n",
    "print(type(Name))"
   ]
  },
  {
   "cell_type": "code",
   "execution_count": 20,
   "id": "9c6c8706",
   "metadata": {},
   "outputs": [
    {
     "name": "stdout",
     "output_type": "stream",
     "text": [
      "0      Bella\n",
      "1    Charlie\n",
      "2       Lucy\n",
      "3    Coooper\n",
      "4        Max\n",
      "5     Stella\n",
      "6     Bernie\n",
      "Name: name, dtype: object\n"
     ]
    }
   ],
   "source": [
    "print(dogs.name)"
   ]
  },
  {
   "cell_type": "code",
   "execution_count": 23,
   "id": "3af4cff0",
   "metadata": {},
   "outputs": [
    {
     "name": "stdout",
     "output_type": "stream",
     "text": [
      "   height_cm       breed\n",
      "0         56    Labrador\n",
      "1         43      Poodle\n",
      "2         46    ChowChow\n",
      "3         49   Schnauzer\n",
      "4         59    Labrador\n",
      "5         18   Chihuahua\n",
      "6         77  St.Bernard\n"
     ]
    },
    {
     "data": {
      "text/plain": [
       "pandas.core.frame.DataFrame"
      ]
     },
     "execution_count": 23,
     "metadata": {},
     "output_type": "execute_result"
    }
   ],
   "source": [
    "subtable = dogs[['height_cm','breed']]\n",
    "print(subtable)\n",
    "type(subtable)"
   ]
  },
  {
   "cell_type": "code",
   "execution_count": 24,
   "id": "ee55087c",
   "metadata": {},
   "outputs": [
    {
     "data": {
      "text/html": [
       "<div>\n",
       "<style scoped>\n",
       "    .dataframe tbody tr th:only-of-type {\n",
       "        vertical-align: middle;\n",
       "    }\n",
       "\n",
       "    .dataframe tbody tr th {\n",
       "        vertical-align: top;\n",
       "    }\n",
       "\n",
       "    .dataframe thead th {\n",
       "        text-align: right;\n",
       "    }\n",
       "</style>\n",
       "<table border=\"1\" class=\"dataframe\">\n",
       "  <thead>\n",
       "    <tr style=\"text-align: right;\">\n",
       "      <th></th>\n",
       "      <th>country</th>\n",
       "      <th>pop</th>\n",
       "      <th>gdp</th>\n",
       "      <th>life</th>\n",
       "      <th>cell</th>\n",
       "    </tr>\n",
       "    <tr>\n",
       "      <th>code</th>\n",
       "      <th></th>\n",
       "      <th></th>\n",
       "      <th></th>\n",
       "      <th></th>\n",
       "      <th></th>\n",
       "    </tr>\n",
       "  </thead>\n",
       "  <tbody>\n",
       "    <tr>\n",
       "      <th>RUS</th>\n",
       "      <td>Russia</td>\n",
       "      <td>144.34</td>\n",
       "      <td>1283.16</td>\n",
       "      <td>71.59</td>\n",
       "      <td>229.13</td>\n",
       "    </tr>\n",
       "    <tr>\n",
       "      <th>USA</th>\n",
       "      <td>United States</td>\n",
       "      <td>323.13</td>\n",
       "      <td>18624.47</td>\n",
       "      <td>78.69</td>\n",
       "      <td>395.88</td>\n",
       "    </tr>\n",
       "  </tbody>\n",
       "</table>\n",
       "</div>"
      ],
      "text/plain": [
       "            country     pop       gdp   life    cell\n",
       "code                                                \n",
       "RUS          Russia  144.34   1283.16  71.59  229.13\n",
       "USA   United States  323.13  18624.47  78.69  395.88"
      ]
     },
     "execution_count": 24,
     "metadata": {},
     "output_type": "execute_result"
    }
   ],
   "source": [
    "indicators[3:5]"
   ]
  },
  {
   "cell_type": "code",
   "execution_count": 26,
   "id": "72799377",
   "metadata": {},
   "outputs": [
    {
     "name": "stdout",
     "output_type": "stream",
     "text": [
      "            country     pop       gdp   life    cell\n",
      "code                                                \n",
      "RUS          Russia  144.34   1283.16  71.59  229.13\n",
      "USA   United States  323.13  18624.47  78.69  395.88\n"
     ]
    }
   ],
   "source": [
    "subrows = indicators[3:5]\n",
    "print(subrows)"
   ]
  },
  {
   "cell_type": "code",
   "execution_count": 27,
   "id": "550f0c2c",
   "metadata": {},
   "outputs": [
    {
     "name": "stdout",
     "output_type": "stream",
     "text": [
      "            country      pop       gdp   life     cell\n",
      "code                                                  \n",
      "CAN          Canada    36.26   1535.77  82.30    30.75\n",
      "CHN           China  1378.66  11199.15  76.25  1364.93\n",
      "IND           India  1324.17   2263.79  68.56  1127.81\n",
      "RUS          Russia   144.34   1283.16  71.59   229.13\n",
      "USA   United States   323.13  18624.47  78.69   395.88\n",
      "VNM         Vietnam    94.59    205.28  76.25   120.60\n"
     ]
    }
   ],
   "source": [
    "print(indicators)"
   ]
  },
  {
   "cell_type": "code",
   "execution_count": 28,
   "id": "53b41ba1",
   "metadata": {},
   "outputs": [
    {
     "name": "stdout",
     "output_type": "stream",
     "text": [
      "     country      pop       gdp   life     cell\n",
      "code                                           \n",
      "CAN   Canada    36.26   1535.77  82.30    30.75\n",
      "CHN    China  1378.66  11199.15  76.25  1364.93\n"
     ]
    }
   ],
   "source": [
    "print(indicators[:2])"
   ]
  },
  {
   "cell_type": "code",
   "execution_count": 29,
   "id": "e2bd1493",
   "metadata": {},
   "outputs": [
    {
     "name": "stdout",
     "output_type": "stream",
     "text": [
      "            country      pop       gdp   life     cell\n",
      "code                                                  \n",
      "IND           India  1324.17   2263.79  68.56  1127.81\n",
      "RUS          Russia   144.34   1283.16  71.59   229.13\n",
      "USA   United States   323.13  18624.47  78.69   395.88\n"
     ]
    }
   ],
   "source": [
    "print(indicators['IND':'USA'])"
   ]
  },
  {
   "cell_type": "code",
   "execution_count": 30,
   "id": "ca434b96",
   "metadata": {},
   "outputs": [
    {
     "name": "stdout",
     "output_type": "stream",
     "text": [
      "            country     pop       gdp   life    cell\n",
      "code                                                \n",
      "VNM         Vietnam   94.59    205.28  76.25  120.60\n",
      "USA   United States  323.13  18624.47  78.69  395.88\n",
      "RUS          Russia  144.34   1283.16  71.59  229.13\n"
     ]
    }
   ],
   "source": [
    "print(indicators['VNM':'RUS':-1])"
   ]
  },
  {
   "cell_type": "code",
   "execution_count": 33,
   "id": "efccdf4c",
   "metadata": {},
   "outputs": [
    {
     "name": "stdout",
     "output_type": "stream",
     "text": [
      "205.28\n"
     ]
    }
   ],
   "source": [
    "print(indicators.loc['VNM', 'gdp'])"
   ]
  },
  {
   "cell_type": "code",
   "execution_count": 34,
   "id": "01708634",
   "metadata": {},
   "outputs": [
    {
     "data": {
      "text/plain": [
       "205.28"
      ]
     },
     "execution_count": 34,
     "metadata": {},
     "output_type": "execute_result"
    }
   ],
   "source": [
    "indicators.loc['VNM', 'gdp']\n"
   ]
  },
  {
   "cell_type": "code",
   "execution_count": 35,
   "id": "03f4a84e",
   "metadata": {},
   "outputs": [
    {
     "ename": "NameError",
     "evalue": "name 'topnames' is not defined",
     "output_type": "error",
     "traceback": [
      "\u001b[1;31m---------------------------------------------------------------------------\u001b[0m",
      "\u001b[1;31mNameError\u001b[0m                                 Traceback (most recent call last)",
      "\u001b[1;32m~\\AppData\\Local\\Temp/ipykernel_17720/1464092548.py\u001b[0m in \u001b[0;36m<module>\u001b[1;34m\u001b[0m\n\u001b[1;32m----> 1\u001b[1;33m \u001b[0mtopnames\u001b[0m\u001b[1;33m\u001b[0m\u001b[1;33m\u001b[0m\u001b[0m\n\u001b[0m",
      "\u001b[1;31mNameError\u001b[0m: name 'topnames' is not defined"
     ]
    }
   ],
   "source": [
    "topnames\n"
   ]
  },
  {
   "cell_type": "code",
   "execution_count": 37,
   "id": "e8c2b021",
   "metadata": {},
   "outputs": [
    {
     "name": "stdout",
     "output_type": "stream",
     "text": [
      "code\n",
      "CAN      36.26\n",
      "CHN    1378.66\n",
      "IND    1324.17\n",
      "RUS     144.34\n",
      "USA     323.13\n",
      "VNM      94.59\n",
      "Name: pop, dtype: float64\n"
     ]
    }
   ],
   "source": [
    "print(indicators.loc[:, 'pop'])"
   ]
  },
  {
   "cell_type": "code",
   "execution_count": 38,
   "id": "a266a247",
   "metadata": {},
   "outputs": [
    {
     "name": "stdout",
     "output_type": "stream",
     "text": [
      "     country      pop       gdp   life     cell\n",
      "code                                           \n",
      "CHN    China  1378.66  11199.15  76.25  1364.93\n",
      "IND    India  1324.17   2263.79  68.56  1127.81\n"
     ]
    }
   ],
   "source": [
    "print(indicators.iloc[1:3, :])"
   ]
  },
  {
   "cell_type": "code",
   "execution_count": 39,
   "id": "ddc372f1",
   "metadata": {},
   "outputs": [
    {
     "name": "stdout",
     "output_type": "stream",
     "text": [
      "country    United States\n",
      "life               78.69\n",
      "cell              395.88\n",
      "Name: USA, dtype: object\n"
     ]
    }
   ],
   "source": [
    "print(indicators.loc['USA', ['country', 'life', 'cell']])"
   ]
  },
  {
   "cell_type": "code",
   "execution_count": 40,
   "id": "5777adcf",
   "metadata": {},
   "outputs": [
    {
     "data": {
      "text/html": [
       "<div>\n",
       "<style scoped>\n",
       "    .dataframe tbody tr th:only-of-type {\n",
       "        vertical-align: middle;\n",
       "    }\n",
       "\n",
       "    .dataframe tbody tr th {\n",
       "        vertical-align: top;\n",
       "    }\n",
       "\n",
       "    .dataframe thead th {\n",
       "        text-align: right;\n",
       "    }\n",
       "</style>\n",
       "<table border=\"1\" class=\"dataframe\">\n",
       "  <thead>\n",
       "    <tr style=\"text-align: right;\">\n",
       "      <th></th>\n",
       "      <th>country</th>\n",
       "      <th>pop</th>\n",
       "      <th>gdp</th>\n",
       "      <th>life</th>\n",
       "      <th>cell</th>\n",
       "    </tr>\n",
       "    <tr>\n",
       "      <th>code</th>\n",
       "      <th></th>\n",
       "      <th></th>\n",
       "      <th></th>\n",
       "      <th></th>\n",
       "      <th></th>\n",
       "    </tr>\n",
       "  </thead>\n",
       "  <tbody>\n",
       "    <tr>\n",
       "      <th>CAN</th>\n",
       "      <td>Canada</td>\n",
       "      <td>36.26</td>\n",
       "      <td>1535.77</td>\n",
       "      <td>82.30</td>\n",
       "      <td>30.75</td>\n",
       "    </tr>\n",
       "    <tr>\n",
       "      <th>CHN</th>\n",
       "      <td>China</td>\n",
       "      <td>1378.66</td>\n",
       "      <td>11199.15</td>\n",
       "      <td>76.25</td>\n",
       "      <td>1364.93</td>\n",
       "    </tr>\n",
       "    <tr>\n",
       "      <th>IND</th>\n",
       "      <td>India</td>\n",
       "      <td>1324.17</td>\n",
       "      <td>2263.79</td>\n",
       "      <td>68.56</td>\n",
       "      <td>1127.81</td>\n",
       "    </tr>\n",
       "    <tr>\n",
       "      <th>RUS</th>\n",
       "      <td>Russia</td>\n",
       "      <td>144.34</td>\n",
       "      <td>1283.16</td>\n",
       "      <td>71.59</td>\n",
       "      <td>229.13</td>\n",
       "    </tr>\n",
       "    <tr>\n",
       "      <th>USA</th>\n",
       "      <td>United States</td>\n",
       "      <td>323.13</td>\n",
       "      <td>18624.47</td>\n",
       "      <td>78.69</td>\n",
       "      <td>395.88</td>\n",
       "    </tr>\n",
       "    <tr>\n",
       "      <th>VNM</th>\n",
       "      <td>Vietnam</td>\n",
       "      <td>94.59</td>\n",
       "      <td>205.28</td>\n",
       "      <td>76.25</td>\n",
       "      <td>120.60</td>\n",
       "    </tr>\n",
       "  </tbody>\n",
       "</table>\n",
       "</div>"
      ],
      "text/plain": [
       "            country      pop       gdp   life     cell\n",
       "code                                                  \n",
       "CAN          Canada    36.26   1535.77  82.30    30.75\n",
       "CHN           China  1378.66  11199.15  76.25  1364.93\n",
       "IND           India  1324.17   2263.79  68.56  1127.81\n",
       "RUS          Russia   144.34   1283.16  71.59   229.13\n",
       "USA   United States   323.13  18624.47  78.69   395.88\n",
       "VNM         Vietnam    94.59    205.28  76.25   120.60"
      ]
     },
     "execution_count": 40,
     "metadata": {},
     "output_type": "execute_result"
    }
   ],
   "source": [
    "indicators"
   ]
  },
  {
   "cell_type": "code",
   "execution_count": 41,
   "id": "ecc4024d",
   "metadata": {},
   "outputs": [
    {
     "name": "stdout",
     "output_type": "stream",
     "text": [
      "country    United States\n",
      "life               78.69\n",
      "cell              395.88\n",
      "Name: USA, dtype: object\n"
     ]
    }
   ],
   "source": [
    "print(indicators.iloc[4, [0, 3, 4]])"
   ]
  },
  {
   "cell_type": "code",
   "execution_count": 43,
   "id": "2e6f3ce8",
   "metadata": {},
   "outputs": [
    {
     "data": {
      "text/plain": [
       "pandas.core.series.Series"
      ]
     },
     "execution_count": 43,
     "metadata": {},
     "output_type": "execute_result"
    }
   ],
   "source": [
    "test = indicators.loc['USA', ['country', 'life', 'cell']]\n",
    "type(test)"
   ]
  },
  {
   "cell_type": "code",
   "execution_count": 44,
   "id": "de628562",
   "metadata": {},
   "outputs": [
    {
     "name": "stdout",
     "output_type": "stream",
     "text": [
      "      country     pop\n",
      "code                 \n",
      "CAN    Canada   36.26\n",
      "RUS    Russia  144.34\n",
      "VNM   Vietnam   94.59\n"
     ]
    }
   ],
   "source": [
    "print(indicators.loc[ indicators.gdp < 2000, ['country', 'pop']])"
   ]
  },
  {
   "cell_type": "code",
   "execution_count": null,
   "id": "701477f5",
   "metadata": {},
   "outputs": [],
   "source": []
  }
 ],
 "metadata": {
  "kernelspec": {
   "display_name": "Python 3 (ipykernel)",
   "language": "python",
   "name": "python3"
  },
  "language_info": {
   "codemirror_mode": {
    "name": "ipython",
    "version": 3
   },
   "file_extension": ".py",
   "mimetype": "text/x-python",
   "name": "python",
   "nbconvert_exporter": "python",
   "pygments_lexer": "ipython3",
   "version": "3.9.7"
  }
 },
 "nbformat": 4,
 "nbformat_minor": 5
}
