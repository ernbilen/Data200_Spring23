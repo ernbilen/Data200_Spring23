{
 "cells": [
  {
   "cell_type": "code",
   "execution_count": 4,
   "id": "764efe62",
   "metadata": {},
   "outputs": [
    {
     "data": {
      "text/plain": [
       "'C:\\\\Users\\\\bilene'"
      ]
     },
     "execution_count": 4,
     "metadata": {},
     "output_type": "execute_result"
    }
   ],
   "source": [
    "import os\n",
    "os.getcwd()"
   ]
  },
  {
   "cell_type": "code",
   "execution_count": 4,
   "id": "0f82ca37",
   "metadata": {},
   "outputs": [],
   "source": [
    "os.chdir(r\"C:\\Users\\bilene\\OneDrive - Dickinson College\\Documents\\GitHub\\Data200_Spring23\\homework\\hw0\")"
   ]
  },
  {
   "cell_type": "code",
   "execution_count": 5,
   "id": "b5d42339",
   "metadata": {},
   "outputs": [
    {
     "data": {
      "text/plain": [
       "'C:\\\\Users\\\\bilene\\\\OneDrive - Dickinson College\\\\Documents\\\\GitHub\\\\Data200_Spring23\\\\homework\\\\hw0'"
      ]
     },
     "execution_count": 5,
     "metadata": {},
     "output_type": "execute_result"
    }
   ],
   "source": [
    "os.getcwd()"
   ]
  },
  {
   "cell_type": "code",
   "execution_count": 7,
   "id": "015196d6",
   "metadata": {},
   "outputs": [],
   "source": [
    "os.mkdir('newfolder')"
   ]
  },
  {
   "cell_type": "code",
   "execution_count": null,
   "id": "64eb8643",
   "metadata": {},
   "outputs": [],
   "source": [
    "###############################################"
   ]
  },
  {
   "cell_type": "code",
   "execution_count": 5,
   "id": "255995a7",
   "metadata": {},
   "outputs": [],
   "source": [
    "datadir = r\"C:\\Users\\bilene\\OneDrive - Dickinson College\\Documents\\GitHub\\Data200_Spring23\\data\"\n",
    "filepath = os.path.join(datadir,'hello.txt')\n",
    "filepath"
   ]
  },
  {
   "cell_type": "code",
   "execution_count": 18,
   "id": "0e51ec9e",
   "metadata": {},
   "outputs": [
    {
     "name": "stdout",
     "output_type": "stream",
     "text": [
      "file was read succesfully!\n"
     ]
    }
   ],
   "source": [
    "try:\n",
    "    file = open(filepath,'rt') #rt is default\n",
    "    filecontents = file.read()\n",
    "    print('file was read succesfully!')\n",
    "    file.close()\n",
    "except:\n",
    "    print('Error!')"
   ]
  },
  {
   "cell_type": "code",
   "execution_count": 19,
   "id": "456589cb",
   "metadata": {},
   "outputs": [
    {
     "data": {
      "text/plain": [
       "'Hello World!\\n'"
      ]
     },
     "execution_count": 19,
     "metadata": {},
     "output_type": "execute_result"
    }
   ],
   "source": [
    "filecontents"
   ]
  },
  {
   "cell_type": "code",
   "execution_count": 16,
   "id": "50725a64",
   "metadata": {},
   "outputs": [],
   "source": []
  },
  {
   "cell_type": "code",
   "execution_count": null,
   "id": "e770f870",
   "metadata": {},
   "outputs": [],
   "source": []
  }
 ],
 "metadata": {
  "kernelspec": {
   "display_name": "Python 3",
   "language": "python",
   "name": "python3"
  },
  "language_info": {
   "codemirror_mode": {
    "name": "ipython",
    "version": 3
   },
   "file_extension": ".py",
   "mimetype": "text/x-python",
   "name": "python",
   "nbconvert_exporter": "python",
   "pygments_lexer": "ipython3",
   "version": "3.9.11"
  }
 },
 "nbformat": 4,
 "nbformat_minor": 5
}
